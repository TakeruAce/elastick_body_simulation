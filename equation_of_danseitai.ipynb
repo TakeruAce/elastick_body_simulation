{
 "cells": [
  {
   "cell_type": "code",
   "execution_count": 83,
   "metadata": {},
   "outputs": [],
   "source": [
    "import sympy as sp\n",
    "from sympy import *"
   ]
  },
  {
   "cell_type": "code",
   "execution_count": 3,
   "metadata": {},
   "outputs": [
    {
     "data": {
      "text/latex": [
       "$\\displaystyle \\begin{cases} - \\frac{e^{- a x}}{a} & \\text{for}\\: a \\neq 0 \\\\x & \\text{otherwise} \\end{cases}$"
      ],
      "text/plain": [
       "⎧  -a⋅x            \n",
       "⎪-ℯ                \n",
       "⎪───────  for a ≠ 0\n",
       "⎨   a              \n",
       "⎪                  \n",
       "⎪   x     otherwise\n",
       "⎩                  "
      ]
     },
     "execution_count": 3,
     "metadata": {},
     "output_type": "execute_result"
    }
   ],
   "source": [
    "sp.init_printing()\n",
    "sp.var('a, x')\n",
    "sp.integrate(sp.exp(-a*x), x)"
   ]
  },
  {
   "cell_type": "code",
   "execution_count": 5,
   "metadata": {},
   "outputs": [
    {
     "data": {
      "text/latex": [
       "$\\displaystyle \\begin{cases} \\frac{x^{n + 1}}{n + 1} & \\text{for}\\: n \\neq -1 \\\\\\log{\\left(x \\right)} & \\text{otherwise} \\end{cases}$"
      ],
      "text/plain": [
       "⎧ n + 1            \n",
       "⎪x                 \n",
       "⎪──────  for n ≠ -1\n",
       "⎨n + 1             \n",
       "⎪                  \n",
       "⎪log(x)  otherwise \n",
       "⎩                  "
      ]
     },
     "execution_count": 5,
     "metadata": {},
     "output_type": "execute_result"
    }
   ],
   "source": [
    "def I(f): return sp.integrate(f, x)\n",
    "sp.var('n')\n",
    "I(x**n)\n"
   ]
  },
  {
   "cell_type": "code",
   "execution_count": 14,
   "metadata": {},
   "outputs": [
    {
     "data": {
      "text/latex": [
       "$\\displaystyle y{\\left(x \\right)} = \\frac{e^{\\sqrt{a}} e^{\\sqrt{a} x}}{e^{2 \\sqrt{a}} - 1} - \\frac{e^{\\sqrt{a}} e^{- \\sqrt{a} x}}{e^{2 \\sqrt{a}} - 1}$"
      ],
      "text/plain": [
       "        √a  √a⋅x    √a  -√a⋅x\n",
       "       ℯ  ⋅ℯ       ℯ  ⋅ℯ     \n",
       "y(x) = ───────── - ──────────\n",
       "        2⋅√a        2⋅√a     \n",
       "       ℯ     - 1   ℯ     - 1 "
      ]
     },
     "execution_count": 14,
     "metadata": {},
     "output_type": "execute_result"
    }
   ],
   "source": [
    "import sympy as sp\n",
    "sp.init_printing()\n",
    "sp.var('a, x')\n",
    "y = sp.Function('y')(x)\n",
    "eq = sp.Eq( sp.diff(y, x, 2),  a*y )\n",
    "sp.dsolve(eq, ics={y.subs(x,0):0, y.subs(x,1):1})"
   ]
  },
  {
   "cell_type": "code",
   "execution_count": 38,
   "metadata": {},
   "outputs": [],
   "source": [
    "sp.var('w x t E I A l')\n",
    "rho = sp.Symbol(r\"\\rho\")\n",
    "lam = sp.Symbol(r\"\\lambda\")"
   ]
  },
  {
   "cell_type": "code",
   "execution_count": 39,
   "metadata": {},
   "outputs": [],
   "source": [
    "w = sp.Function('w')(x,t)\n",
    "f = sp.Function('f')(x)\n",
    "g = sp.Function('g')(t)"
   ]
  },
  {
   "cell_type": "code",
   "execution_count": 92,
   "metadata": {},
   "outputs": [],
   "source": [
    "eq = sp.Eq(sp.diff(f, x, 4), lam*f)\n",
    "ics = {\n",
    "       sp.diff(f, x, 1).subs(x,0):0,\n",
    "       sp.diff(f, x, 2).subs(x,l):0,\n",
    "       sp.diff(f, x, 3).subs(x,l):0}\n",
    "ans = sp.dsolve(eq,ics=ics, simplify=True)"
   ]
  },
  {
   "cell_type": "code",
   "execution_count": 93,
   "metadata": {},
   "outputs": [
    {
     "data": {
      "text/latex": [
       "$\\displaystyle f{\\left(0 \\right)} = \\frac{C_{4} \\cdot \\left(1 + i\\right) \\left(e^{2 \\sqrt[4]{\\lambda} l} + e^{2 i \\sqrt[4]{\\lambda} l} + e^{2 \\sqrt[4]{\\lambda} l \\left(1 + i\\right)} + 4 e^{\\sqrt[4]{\\lambda} l \\left(1 + i\\right)} + 1\\right)}{e^{2 \\sqrt[4]{\\lambda} l} + \\left(1 + i\\right) e^{\\sqrt[4]{\\lambda} l + i \\sqrt[4]{\\lambda} l} + i}$"
      ],
      "text/plain": [
       "                  ⎛   4 _________          4 _________        4 _________     \n",
       "                  ⎜ 2⋅╲╱ \\lambda ⋅l    2⋅ⅈ⋅╲╱ \\lambda ⋅l    2⋅╲╱ \\lambda ⋅l⋅(1\n",
       "       C₄⋅(1 + ⅈ)⋅⎝ℯ                + ℯ                  + ℯ                  \n",
       "f(0) = ───────────────────────────────────────────────────────────────────────\n",
       "                                4 _________              4 _________       4 _\n",
       "                              2⋅╲╱ \\lambda ⋅l            ╲╱ \\lambda ⋅l + ⅈ⋅╲╱ \n",
       "                             ℯ                + (1 + ⅈ)⋅ℯ                     \n",
       "\n",
       "           4 _________              ⎞\n",
       " + ⅈ)      ╲╱ \\lambda ⋅l⋅(1 + ⅈ)    ⎟\n",
       "      + 4⋅ℯ                      + 1⎠\n",
       "─────────────────────────────────────\n",
       "________                             \n",
       "\\lambda ⋅l                           \n",
       "           + ⅈ                       "
      ]
     },
     "execution_count": 93,
     "metadata": {},
     "output_type": "execute_result"
    }
   ],
   "source": [
    "sp.simplify(ans.subs(x,0))"
   ]
  },
  {
   "cell_type": "code",
   "execution_count": 109,
   "metadata": {},
   "outputs": [],
   "source": [
    "df = sp.diff(ans, x, 1)"
   ]
  },
  {
   "cell_type": "code",
   "execution_count": 114,
   "metadata": {},
   "outputs": [
    {
     "data": {
      "text/latex": [
       "$\\displaystyle \\left. \\frac{\\partial^{2}}{\\partial x^{2}} f{\\left(x \\right)} = C_{4} \\left(\\frac{e^{2 \\sqrt[4]{\\lambda} l} e^{2 i \\sqrt[4]{\\lambda} l}}{e^{2 \\sqrt[4]{\\lambda} l} + \\left(1 + i\\right) e^{\\sqrt[4]{\\lambda} l} e^{i \\sqrt[4]{\\lambda} l} + i} + \\frac{i e^{2 \\sqrt[4]{\\lambda} l}}{e^{2 \\sqrt[4]{\\lambda} l} + \\left(1 + i\\right) e^{\\sqrt[4]{\\lambda} l} e^{i \\sqrt[4]{\\lambda} l} + i} - \\frac{\\left(-1 - i\\right) e^{\\sqrt[4]{\\lambda} l} e^{i \\sqrt[4]{\\lambda} l}}{e^{2 \\sqrt[4]{\\lambda} l} + \\left(1 + i\\right) e^{\\sqrt[4]{\\lambda} l} e^{i \\sqrt[4]{\\lambda} l} + i}\\right) e^{- \\sqrt[4]{\\lambda} x} + C_{4} \\left(\\frac{i e^{2 \\sqrt[4]{\\lambda} l} e^{2 i \\sqrt[4]{\\lambda} l}}{e^{2 \\sqrt[4]{\\lambda} l} + \\left(1 + i\\right) e^{\\sqrt[4]{\\lambda} l} e^{i \\sqrt[4]{\\lambda} l} + i} - \\frac{\\left(-1 - i\\right) e^{\\sqrt[4]{\\lambda} l} e^{i \\sqrt[4]{\\lambda} l}}{e^{2 \\sqrt[4]{\\lambda} l} + \\left(1 + i\\right) e^{\\sqrt[4]{\\lambda} l} e^{i \\sqrt[4]{\\lambda} l} + i} + \\frac{e^{2 i \\sqrt[4]{\\lambda} l}}{e^{2 \\sqrt[4]{\\lambda} l} + \\left(1 + i\\right) e^{\\sqrt[4]{\\lambda} l} e^{i \\sqrt[4]{\\lambda} l} + i}\\right) e^{- i \\sqrt[4]{\\lambda} x} + C_{4} \\left(- \\frac{\\left(-1 - i\\right) e^{\\sqrt[4]{\\lambda} l} e^{i \\sqrt[4]{\\lambda} l}}{e^{2 \\sqrt[4]{\\lambda} l} + \\left(1 + i\\right) e^{\\sqrt[4]{\\lambda} l} e^{i \\sqrt[4]{\\lambda} l} + i} + \\frac{i e^{2 i \\sqrt[4]{\\lambda} l}}{e^{2 \\sqrt[4]{\\lambda} l} + \\left(1 + i\\right) e^{\\sqrt[4]{\\lambda} l} e^{i \\sqrt[4]{\\lambda} l} + i} + \\frac{1}{e^{2 \\sqrt[4]{\\lambda} l} + \\left(1 + i\\right) e^{\\sqrt[4]{\\lambda} l} e^{i \\sqrt[4]{\\lambda} l} + i}\\right) e^{\\sqrt[4]{\\lambda} x} + C_{4} e^{i \\sqrt[4]{\\lambda} x} \\right|_{\\substack{ x=0 }}$"
      ],
      "text/plain": [
       "⎛   ⎛          ⎛                4 _________        4 _________                \n",
       "⎜  2⎜          ⎜              2⋅╲╱ \\lambda ⋅l  2⋅ⅈ⋅╲╱ \\lambda ⋅l              \n",
       "⎜ ∂ ⎜          ⎜             ℯ               ⋅ℯ                               \n",
       "⎜───⎜f(x) = C₄⋅⎜──────────────────────────────────────────────────────────────\n",
       "⎜  2⎜          ⎜   4 _________              4 _________      4 _________      \n",
       "⎜∂x ⎜          ⎜ 2⋅╲╱ \\lambda ⋅l            ╲╱ \\lambda ⋅l  ⅈ⋅╲╱ \\lambda ⋅l    \n",
       "⎝   ⎝          ⎝ℯ                + (1 + ⅈ)⋅ℯ             ⋅ℯ                + ⅈ\n",
       "\n",
       "                              4 _________                                     \n",
       "                            2⋅╲╱ \\lambda ⋅l                                   \n",
       "                         ⅈ⋅ℯ                                                  \n",
       " + ────────────────────────────────────────────────────────────── - ──────────\n",
       "      4 _________              4 _________      4 _________            4 _____\n",
       "    2⋅╲╱ \\lambda ⋅l            ╲╱ \\lambda ⋅l  ⅈ⋅╲╱ \\lambda ⋅l        2⋅╲╱ \\lam\n",
       "   ℯ                + (1 + ⅈ)⋅ℯ             ⋅ℯ                + ⅈ   ℯ         \n",
       "\n",
       "           4 _________      4 _________             ⎞                      ⎛  \n",
       "           ╲╱ \\lambda ⋅l  ⅈ⋅╲╱ \\lambda ⋅l           ⎟   4 _________        ⎜  \n",
       " (-1 - ⅈ)⋅ℯ             ⋅ℯ                          ⎟  -╲╱ \\lambda ⋅x      ⎜  \n",
       "────────────────────────────────────────────────────⎟⋅ℯ               + C₄⋅⎜──\n",
       "____              4 _________      4 _________      ⎟                      ⎜  \n",
       "bda ⋅l            ╲╱ \\lambda ⋅l  ⅈ⋅╲╱ \\lambda ⋅l    ⎟                      ⎜ 2\n",
       "       + (1 + ⅈ)⋅ℯ             ⋅ℯ                + ⅈ⎠                      ⎝ℯ \n",
       "\n",
       "               4 _________        4 _________                                 \n",
       "             2⋅╲╱ \\lambda ⋅l  2⋅ⅈ⋅╲╱ \\lambda ⋅l                               \n",
       "          ⅈ⋅ℯ               ⋅ℯ                                            (-1 \n",
       "──────────────────────────────────────────────────────────── - ───────────────\n",
       " 4 _________              4 _________      4 _________            4 _________ \n",
       "⋅╲╱ \\lambda ⋅l            ╲╱ \\lambda ⋅l  ⅈ⋅╲╱ \\lambda ⋅l        2⋅╲╱ \\lambda ⋅\n",
       "               + (1 + ⅈ)⋅ℯ             ⋅ℯ                + ⅈ   ℯ              \n",
       "\n",
       "      4 _________      4 _________                                           4\n",
       "      ╲╱ \\lambda ⋅l  ⅈ⋅╲╱ \\lambda ⋅l                                     2⋅ⅈ⋅╲\n",
       "- ⅈ)⋅ℯ             ⋅ℯ                                                   ℯ     \n",
       "─────────────────────────────────────────────── + ────────────────────────────\n",
       "             4 _________      4 _________            4 _________              \n",
       "l            ╲╱ \\lambda ⋅l  ⅈ⋅╲╱ \\lambda ⋅l        2⋅╲╱ \\lambda ⋅l            \n",
       "  + (1 + ⅈ)⋅ℯ             ⋅ℯ                + ⅈ   ℯ                + (1 + ⅈ)⋅ℯ\n",
       "\n",
       " _________                        ⎞                        ⎛                  \n",
       "╱ \\lambda ⋅l                      ⎟     4 _________        ⎜                  \n",
       "                                  ⎟  -ⅈ⋅╲╱ \\lambda ⋅x      ⎜             (-1 -\n",
       "──────────────────────────────────⎟⋅ℯ                 + C₄⋅⎜- ────────────────\n",
       "4 _________      4 _________      ⎟                        ⎜     4 _________  \n",
       "╲╱ \\lambda ⋅l  ⅈ⋅╲╱ \\lambda ⋅l    ⎟                        ⎜   2⋅╲╱ \\lambda ⋅l\n",
       "             ⋅ℯ                + ⅈ⎠                        ⎝  ℯ               \n",
       "\n",
       "     4 _________      4 _________                                            4\n",
       "     ╲╱ \\lambda ⋅l  ⅈ⋅╲╱ \\lambda ⋅l                                      2⋅ⅈ⋅╲\n",
       " ⅈ)⋅ℯ             ⋅ℯ                                                  ⅈ⋅ℯ     \n",
       "────────────────────────────────────────────── + ─────────────────────────────\n",
       "            4 _________      4 _________            4 _________              4\n",
       "            ╲╱ \\lambda ⋅l  ⅈ⋅╲╱ \\lambda ⋅l        2⋅╲╱ \\lambda ⋅l            ╲\n",
       " + (1 + ⅈ)⋅ℯ             ⋅ℯ                + ⅈ   ℯ                + (1 + ⅈ)⋅ℯ \n",
       "\n",
       " _________                                                                    \n",
       "╱ \\lambda ⋅l                                                                  \n",
       "                                                                  1           \n",
       "───────────────────────────────── + ──────────────────────────────────────────\n",
       " _________      4 _________            4 _________              4 _________   \n",
       "╱ \\lambda ⋅l  ⅈ⋅╲╱ \\lambda ⋅l        2⋅╲╱ \\lambda ⋅l            ╲╱ \\lambda ⋅l \n",
       "            ⋅ℯ                + ⅈ   ℯ                + (1 + ⅈ)⋅ℯ             ⋅\n",
       "\n",
       "                    ⎞                                     ⎞⎞│   \n",
       "                    ⎟  4 _________           4 _________  ⎟⎟│   \n",
       "                    ⎟  ╲╱ \\lambda ⋅x       ⅈ⋅╲╱ \\lambda ⋅x⎟⎟│   \n",
       "────────────────────⎟⋅ℯ              + C₄⋅ℯ               ⎟⎟│   \n",
       "   4 _________      ⎟                                     ⎟⎟│   \n",
       " ⅈ⋅╲╱ \\lambda ⋅l    ⎟                                     ⎟⎟│   \n",
       "ℯ                + ⅈ⎠                                     ⎠⎠│x=0"
      ]
     },
     "execution_count": 114,
     "metadata": {},
     "output_type": "execute_result"
    }
   ],
   "source": [
    "sp.diff(ans,x,2).subs(x,0)"
   ]
  },
  {
   "cell_type": "code",
   "execution_count": 117,
   "metadata": {},
   "outputs": [],
   "source": [
    "w = sp.cosh(lam*x/l) - sp.cos(lam*x/l) - (sp.cosh(lam)+sp.cos(lam))/(sp.sinh(lam)+sp.sin(lam)) * (sp.sinh(lam*x/l) - sp.sin(lam*x/l))"
   ]
  },
  {
   "cell_type": "code",
   "execution_count": 125,
   "metadata": {},
   "outputs": [
    {
     "data": {
      "text/latex": [
       "$\\displaystyle \\frac{3.515625 \\left(- 0.73409551637624 \\sin{\\left(\\frac{1.875 x}{l} \\right)} + \\cos{\\left(\\frac{1.875 x}{l} \\right)} - 0.73409551637624 \\sinh{\\left(\\frac{1.875 x}{l} \\right)} + \\cosh{\\left(\\frac{1.875 x}{l} \\right)}\\right)}{l^{2}}$"
      ],
      "text/plain": [
       "         ⎛                      ⎛1.875⋅x⎞      ⎛1.875⋅x⎞                      \n",
       "3.515625⋅⎜- 0.73409551637624⋅sin⎜───────⎟ + cos⎜───────⎟ - 0.73409551637624⋅si\n",
       "         ⎝                      ⎝   l   ⎠      ⎝   l   ⎠                      \n",
       "──────────────────────────────────────────────────────────────────────────────\n",
       "                                                     2                        \n",
       "                                                    l                         \n",
       "\n",
       "  ⎛1.875⋅x⎞       ⎛1.875⋅x⎞⎞\n",
       "nh⎜───────⎟ + cosh⎜───────⎟⎟\n",
       "  ⎝   l   ⎠       ⎝   l   ⎠⎠\n",
       "────────────────────────────\n",
       "                            \n",
       "                            "
      ]
     },
     "execution_count": 125,
     "metadata": {},
     "output_type": "execute_result"
    }
   ],
   "source": [
    "sp.diff(w,x,2).subs(lam,1.875)"
   ]
  },
  {
   "cell_type": "markdown",
   "metadata": {},
   "source": [
    "https://www.jsme.or.jp/sed/guide/dynamics5.pdf\n",
    "を参考に梁の変形モードを記述した。"
   ]
  }
 ],
 "metadata": {
  "kernelspec": {
   "display_name": "Python 3.10.5 64-bit",
   "language": "python",
   "name": "python3"
  },
  "language_info": {
   "codemirror_mode": {
    "name": "ipython",
    "version": 3
   },
   "file_extension": ".py",
   "mimetype": "text/x-python",
   "name": "python",
   "nbconvert_exporter": "python",
   "pygments_lexer": "ipython3",
   "version": "3.10.5"
  },
  "orig_nbformat": 4,
  "vscode": {
   "interpreter": {
    "hash": "3b79a9603654acc1a1dda7ab9d7fbeea5670a7835087b35cd5f08522a1762abf"
   }
  }
 },
 "nbformat": 4,
 "nbformat_minor": 2
}
